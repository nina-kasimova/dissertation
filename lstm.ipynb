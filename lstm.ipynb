{
 "cells": [
  {
   "cell_type": "code",
   "execution_count": 1,
   "id": "bf8fa2ea",
   "metadata": {},
   "outputs": [],
   "source": [
    "import pandas as pd\n",
    "import re\n",
    "import nltk\n",
    "from nltk.tag import pos_tag\n",
    "from nltk.stem.wordnet import WordNetLemmatizer\n",
    "from nltk.tokenize import RegexpTokenizer\n",
    "from nltk.corpus import stopwords\n",
    "import numpy as np\n",
    "from typing import List\n",
    "from nltk.tokenize import word_tokenize"
   ]
  },
  {
   "cell_type": "code",
   "execution_count": 2,
   "id": "56934523",
   "metadata": {},
   "outputs": [
    {
     "name": "stdout",
     "output_type": "stream",
     "text": [
      "Index(['id', 'turn1', 'turn2', 'turn3', 'label', 'combined', 'seq_len'], dtype='object')\n"
     ]
    }
   ],
   "source": [
    "def filter_stop_words(text: List[str])->List[str]:\n",
    "    stop_words = set(stopwords.words(\"english\"))\n",
    "    return [word for word in text if word not in stop_words]\n",
    "\n",
    "dialogues = pd.read_csv('../code/emo_context_train.txt', sep=\"\\t\")\n",
    "\n",
    "#dialogues = dialogues[dialogues[\"label\"]!=\"others\"]\n",
    "labels = dialogues.label\n",
    "cols = [\"turn1\", \"turn2\", \"turn3\"]\n",
    "dialogues[\"combined\"] = dialogues[cols].apply(lambda row: ' '.join(row.values.astype(str)), axis=1)\n",
    "#dialogues[\"combined\"] = dialogues[\"combined\"].apply(str.lower).apply(word_tokenize).apply(filter_stop_words).apply(lambda x: \" \".join(x))\n",
    "dialogues[\"combined\"] = dialogues[\"combined\"].apply(str.lower).apply(word_tokenize).apply(lambda x: \" \".join(x))\n",
    "dialogues[\"seq_len\"] = dialogues[\"combined\"].apply(len)\n",
    "print(dialogues.columns)\n",
    "\n",
    "max_len = dialogues[\"seq_len\"].max()\n",
    "input_text = dialogues.combined.values"
   ]
  },
  {
   "cell_type": "code",
   "execution_count": 3,
   "id": "f914d406",
   "metadata": {},
   "outputs": [
    {
     "name": "stderr",
     "output_type": "stream",
     "text": [
      "2023-05-07 14:47:39.030712: I tensorflow/core/platform/cpu_feature_guard.cc:193] This TensorFlow binary is optimized with oneAPI Deep Neural Network Library (oneDNN) to use the following CPU instructions in performance-critical operations:  SSE4.1 SSE4.2 AVX AVX2 FMA\n",
      "To enable them in other operations, rebuild TensorFlow with the appropriate compiler flags.\n"
     ]
    }
   ],
   "source": [
    "from keras.layers import Dense, Embedding, LSTM, SpatialDropout1D\n",
    "from keras.models import Sequential\n",
    "from keras.preprocessing.text import Tokenizer\n",
    "from keras_preprocessing.sequence import pad_sequences\n",
    "from sklearn.model_selection import train_test_split\n",
    "from sklearn.feature_extraction.text import TfidfVectorizer\n",
    "import math \n",
    "import sklearn\n",
    "from sklearn import metrics"
   ]
  },
  {
   "cell_type": "markdown",
   "id": "dramatic-northeast",
   "metadata": {},
   "source": [
    "### Split data into train and test and vectorise"
   ]
  },
  {
   "cell_type": "code",
   "execution_count": 9,
   "id": "8161e83a",
   "metadata": {},
   "outputs": [
    {
     "name": "stdout",
     "output_type": "stream",
     "text": [
      "0        3\n",
      "1        2\n",
      "2        3\n",
      "3        2\n",
      "4        3\n",
      "        ..\n",
      "30155    3\n",
      "30156    1\n",
      "30157    3\n",
      "30158    3\n",
      "30159    3\n",
      "Name: label, Length: 30160, dtype: int64\n",
      "<class 'numpy.ndarray'>\n",
      "30160\n"
     ]
    }
   ],
   "source": [
    "X = input_text\n",
    "label_map = {'happy':0,'sad':1,'angry':2, 'others':3}\n",
    "#label_map = {'happy':0,'sad':1,'angry':2}\n",
    "y = dialogues['label'].map(label_map)\n",
    "\n",
    "y = np.asarray(y).astype('float32')\n",
    "max_fatures = 2000\n",
    "tokenizer = Tokenizer(num_words=max_fatures, split=' ')\n",
    "tokenizer.fit_on_texts(X)\n",
    "X = tokenizer.texts_to_sequences(X)\n",
    "X = pad_sequences(X)"
   ]
  },
  {
   "cell_type": "code",
   "execution_count": 10,
   "id": "28bb288b",
   "metadata": {},
   "outputs": [
    {
     "name": "stdout",
     "output_type": "stream",
     "text": [
      "Model: \"sequential_2\"\n",
      "_________________________________________________________________\n",
      " Layer (type)                Output Shape              Param #   \n",
      "=================================================================\n",
      " embedding_2 (Embedding)     (None, 152, 128)          256000    \n",
      "                                                                 \n",
      " spatial_dropout1d_2 (Spatia  (None, 152, 128)         0         \n",
      " lDropout1D)                                                     \n",
      "                                                                 \n",
      " lstm_2 (LSTM)               (None, 64)                49408     \n",
      "                                                                 \n",
      " dense_4 (Dense)             (None, 32)                2080      \n",
      "                                                                 \n",
      " dense_5 (Dense)             (None, 4)                 132       \n",
      "                                                                 \n",
      "=================================================================\n",
      "Total params: 307,620\n",
      "Trainable params: 307,620\n",
      "Non-trainable params: 0\n",
      "_________________________________________________________________\n",
      "None\n"
     ]
    }
   ],
   "source": [
    "embed_dim = 128\n",
    "lstm_out = 64\n",
    "\n",
    "max_features = 2000\n",
    "model = Sequential()\n",
    "model.add(Embedding(max_features, embed_dim, input_length = X.shape[1]))\n",
    "model.add(SpatialDropout1D(0.2))\n",
    "model.add(LSTM(lstm_out, dropout=0.2, recurrent_dropout=0.2))\n",
    "model.add(Dense(32,activation='softmax'))\n",
    "model.add(Dense(4,activation='softmax'))\n",
    "model.compile(loss = 'sparse_categorical_crossentropy', optimizer='adam',metrics = ['accuracy'])\n",
    "print(model.summary())"
   ]
  },
  {
   "cell_type": "code",
   "execution_count": 11,
   "id": "b0d6345e",
   "metadata": {},
   "outputs": [
    {
     "name": "stdout",
     "output_type": "stream",
     "text": [
      "Epoch 1/5\n",
      "754/754 - 55s - loss: 1.1330 - accuracy: 0.5634 - 55s/epoch - 74ms/step\n",
      "Epoch 2/5\n",
      "754/754 - 58s - loss: 0.9257 - accuracy: 0.6690 - 58s/epoch - 77ms/step\n",
      "Epoch 3/5\n",
      "754/754 - 58s - loss: 0.7194 - accuracy: 0.7359 - 58s/epoch - 77ms/step\n",
      "Epoch 4/5\n",
      "754/754 - 55s - loss: 0.6281 - accuracy: 0.7743 - 55s/epoch - 73ms/step\n",
      "Epoch 5/5\n",
      "754/754 - 56s - loss: 0.4792 - accuracy: 0.8671 - 56s/epoch - 74ms/step\n"
     ]
    },
    {
     "data": {
      "text/plain": [
       "<keras.callbacks.History at 0x7fb4264a7f40>"
      ]
     },
     "execution_count": 11,
     "metadata": {},
     "output_type": "execute_result"
    }
   ],
   "source": [
    "X_train, X_test, y_train, y_test = train_test_split(X, y, test_size=0.2, random_state=16)\n",
    "batch_size = 32\n",
    "model.fit(X_train, y_train, epochs=5, batch_size=batch_size, verbose=2)"
   ]
  },
  {
   "cell_type": "code",
   "execution_count": 12,
   "id": "5e3bb4a3",
   "metadata": {},
   "outputs": [
    {
     "name": "stdout",
     "output_type": "stream",
     "text": [
      "189/189 - 3s - loss: 0.5040 - accuracy: 0.8473 - 3s/epoch - 16ms/step\n",
      "score: 0.50\n",
      "acc: 0.85\n"
     ]
    }
   ],
   "source": [
    "score,acc = model.evaluate(X_test, y_test, verbose = 2, batch_size = batch_size)\n",
    "print(\"score: %.2f\" % (score))\n",
    "print(\"acc: %.2f\" % (acc))"
   ]
  },
  {
   "cell_type": "code",
   "execution_count": 13,
   "id": "774e2812",
   "metadata": {},
   "outputs": [
    {
     "name": "stdout",
     "output_type": "stream",
     "text": [
      "189/189 [==============================] - 3s 15ms/step\n",
      "<class 'numpy.ndarray'>\n",
      "<class 'numpy.ndarray'>\n",
      "f1 score 0.8318026951580568\n",
      "[0 3 1 ... 0 3 3]\n",
      "              precision    recall  f1-score   support\n",
      "\n",
      "         0.0       0.80      0.81      0.80       839\n",
      "         1.0       0.88      0.75      0.81      1067\n",
      "         2.0       0.85      0.84      0.84      1075\n",
      "         3.0       0.85      0.90      0.87      3051\n",
      "\n",
      "    accuracy                           0.85      6032\n",
      "   macro avg       0.84      0.82      0.83      6032\n",
      "weighted avg       0.85      0.85      0.85      6032\n",
      "\n"
     ]
    }
   ],
   "source": [
    "from sklearn.metrics import classification_report\n",
    "y_prediction = model.predict(X_test)\n",
    "y_prediction = np.argmax (y_prediction, axis = 1)\n",
    "\n",
    "print(\"f1 score\", sklearn.metrics.f1_score(y_test, y_prediction, average='macro'))\n",
    "print(y_prediction)\n",
    "print(classification_report(y_test, y_prediction,))"
   ]
  },
  {
   "cell_type": "code",
   "execution_count": 14,
   "id": "a397e089",
   "metadata": {},
   "outputs": [
    {
     "data": {
      "text/plain": [
       "array([[ 677,    5,    8,  149],\n",
       "       [  15,  800,   61,  191],\n",
       "       [  15,   22,  901,  137],\n",
       "       [ 144,   79,   95, 2733]])"
      ]
     },
     "metadata": {},
     "output_type": "display_data"
    }
   ],
   "source": [
    "from sklearn.metrics import confusion_matrix\n",
    "from sklearn.metrics import ConfusionMatrixDisplay\n",
    "import matplotlib.pyplot as plt\n",
    "\n",
    "\n",
    "labels = ['happy','sad','angry','others']\n",
    "num_labels = [0,1,2,3]\n",
    "confusion_matrix = sklearn.metrics.confusion_matrix(y_test, y_prediction, labels=num_labels)\n",
    "display(confusion_matrix)"
   ]
  },
  {
   "cell_type": "code",
   "execution_count": 15,
   "id": "f5985130",
   "metadata": {},
   "outputs": [
    {
     "data": {
      "image/png": "[encoded data removed]",
      "text/plain": [
       "<Figure size 640x480 with 2 Axes>"
      ]
     },
     "metadata": {},
     "output_type": "display_data"
    }
   ],
   "source": [
    "color = 'black'\n",
    "\n",
    "cm_display = ConfusionMatrixDisplay(confusion_matrix = confusion_matrix, display_labels=labels)\n",
    "cm_display.plot(cmap=plt.cm.Blues)\n",
    "cm_display.ax_.set_title('Confusion Matrix', color=color)\n",
    "plt.xlabel('Predicted Label', color=color)\n",
    "plt.ylabel('True Label', color=color)\n",
    "plt.gcf().axes[0].tick_params(colors=color)\n",
    "plt.gcf().axes[1].tick_params(colors=color)\n",
    "plt.show()"
   ]
  },
  {
   "cell_type": "code",
   "execution_count": null,
   "id": "528652c9",
   "metadata": {},
   "outputs": [],
   "source": [
    "from sklearn.metrics import classification_report\n",
    " \n",
    "print(classification_report(y_test, y_prediction,))"
   ]
  },
  {
   "cell_type": "code",
   "execution_count": null,
   "id": "ed2ef2ed",
   "metadata": {},
   "outputs": [],
   "source": []
  }
 ],
 "metadata": {
  "kernelspec": {
   "display_name": "Python 3 (ipykernel)",
   "language": "python",
   "name": "python3"
  },
  "language_info": {
   "codemirror_mode": {
    "name": "ipython",
    "version": 3
   },
   "file_extension": ".py",
   "mimetype": "text/x-python",
   "name": "python",
   "nbconvert_exporter": "python",
   "pygments_lexer": "ipython3",
   "version": "3.8.12"
  }
 },
 "nbformat": 4,
 "nbformat_minor": 5
}
