{
 "cells": [
  {
   "cell_type": "code",
   "execution_count": 3,
   "id": "bf8fa2ea",
   "metadata": {},
   "outputs": [],
   "source": [
    "import pandas as pd\n",
    "import re\n",
    "import nltk\n",
    "from nltk.tag import pos_tag\n",
    "from nltk.stem.wordnet import WordNetLemmatizer\n",
    "from nltk.tokenize import RegexpTokenizer\n",
    "from nltk.corpus import stopwords\n",
    "from typing import List\n",
    "from nltk.tokenize import word_tokenize\n",
    "import numpy as np\n",
    "from gensim.models.word2vec import Word2Vec\n",
    "from gensim.models import KeyedVectors\n",
    "import gensim"
   ]
  },
  {
   "cell_type": "code",
   "execution_count": 8,
   "id": "56934523",
   "metadata": {},
   "outputs": [
    {
     "name": "stdout",
     "output_type": "stream",
     "text": [
      "['when did i ? saw many times i think -_- no . i never saw you'\n",
      " 'u r ridiculous i might be ridiculous but i am telling the truth . u little disgusting whore'\n",
      " 'i hate my boyfriend you got a boyfriend ? yes' ...\n",
      " 'shut up now getting mess up ? u cheated me'\n",
      " 'waste yup , i said it , n0w what ? : p i blocked you bye waste'\n",
      " \"i 'm not getting you 😭😭😭 why are you crying ? ? because you are not making any sense\"]\n"
     ]
    }
   ],
   "source": [
    "dialogues = pd.read_csv('../code/emo_context_train.txt', sep=\"\\t\")\n",
    "dialogues = dialogues[dialogues[\"label\"]!=\"others\"]\n",
    "labels = dialogues.label\n",
    "cols = [\"turn1\", \"turn2\", \"turn3\"]\n",
    "dialogues[\"combined\"] = dialogues[cols].apply(lambda row: ' '.join(row.values.astype(str)), axis=1)\n",
    "dialogues[\"combined\"] = dialogues[\"combined\"].apply(str.lower).apply(word_tokenize).apply(lambda x: \" \".join(x))\n",
    "dialogues[\"seq_len\"] = dialogues[\"combined\"].apply(len)\n",
    "\n",
    "max_len = dialogues[\"seq_len\"].max()\n",
    "input_text = dialogues.combined.values"
   ]
  },
  {
   "cell_type": "code",
   "execution_count": 5,
   "id": "f914d406",
   "metadata": {},
   "outputs": [
    {
     "name": "stderr",
     "output_type": "stream",
     "text": [
      "2023-04-27 15:37:26.261759: I tensorflow/core/platform/cpu_feature_guard.cc:193] This TensorFlow binary is optimized with oneAPI Deep Neural Network Library (oneDNN) to use the following CPU instructions in performance-critical operations:  SSE4.1 SSE4.2 AVX AVX2 FMA\n",
      "To enable them in other operations, rebuild TensorFlow with the appropriate compiler flags.\n"
     ]
    }
   ],
   "source": [
    "from keras.layers import Dense, Embedding, LSTM, SpatialDropout1D, Dropout\n",
    "from keras.models import Sequential\n",
    "from keras.preprocessing.text import Tokenizer\n",
    "from keras_preprocessing.sequence import pad_sequences\n",
    "from sklearn.model_selection import train_test_split\n",
    "from sklearn.feature_extraction.text import TfidfVectorizer\n",
    "import math \n",
    "import sklearn\n",
    "from sklearn import metrics"
   ]
  },
  {
   "cell_type": "markdown",
   "id": "dramatic-northeast",
   "metadata": {},
   "source": [
    "# split data into train and test and vectorise"
   ]
  },
  {
   "cell_type": "code",
   "execution_count": 6,
   "id": "3edc3452",
   "metadata": {},
   "outputs": [],
   "source": [
    "word2vec_model = gensim.models.KeyedVectors.load_word2vec_format('./GoogleNews-vectors-negative300.bin', binary=True) "
   ]
  },
  {
   "cell_type": "code",
   "execution_count": 7,
   "id": "cd3cea20",
   "metadata": {},
   "outputs": [
    {
     "name": "stdout",
     "output_type": "stream",
     "text": [
      "['</s>', 'in', 'for', 'that', 'is', 'on', '##', 'The', 'with', 'said']\n",
      "3000000\n"
     ]
    }
   ],
   "source": [
    "w2v_vocab = word2vec_model.index_to_key\n",
    "print(w2v_vocab[:10])\n",
    "wv_dict={}\n",
    "for word in w2v_vocab:\n",
    "    wv_dict[word]= word2vec_model.get_vector(word)\n",
    "print(len(wv_dict))"
   ]
  },
  {
   "cell_type": "code",
   "execution_count": 17,
   "id": "7d5c0f88",
   "metadata": {},
   "outputs": [
    {
     "name": "stdout",
     "output_type": "stream",
     "text": [
      "80\n"
     ]
    }
   ],
   "source": [
    "max_review_len=-1\n",
    "for i,rev in enumerate(input_text):\n",
    "    tokens=rev.split()\n",
    "    if(len(tokens)>max_review_len):\n",
    "        max_review_len=len(tokens)\n",
    "        \n",
    "print(max_review_len)"
   ]
  },
  {
   "cell_type": "code",
   "execution_count": 20,
   "id": "04f2327e",
   "metadata": {},
   "outputs": [
    {
     "data": {
      "text/plain": [
       "(15212, 80)"
      ]
     },
     "execution_count": 20,
     "metadata": {},
     "output_type": "execute_result"
    }
   ],
   "source": [
    "X = input_text\n",
    "tokenizer = Tokenizer(num_words=max_review_len, split=' ')\n",
    "tokenizer.fit_on_texts(X)\n",
    "X = tokenizer.texts_to_sequences(X)\n",
    "\n",
    "vocab_size = len(tokenizer.word_index) + 1  # total no of words\n",
    "embed_dim=300\n",
    "\n",
    "pad_rev = pad_sequences(X, maxlen=max_review_len, padding='post')\n",
    "pad_rev.shape "
   ]
  },
  {
   "cell_type": "code",
   "execution_count": 21,
   "id": "caa70be7",
   "metadata": {},
   "outputs": [],
   "source": [
    "embed_matrix=np.zeros(shape=(vocab_size,embed_dim))\n",
    "for word,i in tokenizer.word_index.items():\n",
    "    embed_vector=wv_dict.get(word)\n",
    "    if embed_vector is not None:  # word is in the vocabulary learned by the w2v model\n",
    "        embed_matrix[i]=embed_vector"
   ]
  },
  {
   "cell_type": "code",
   "execution_count": 25,
   "id": "930900f3",
   "metadata": {},
   "outputs": [],
   "source": [
    "label_map = {'happy':0,'sad':1,'angry':2}\n",
    "y = dialogues[\"label\"].map(label_map)\n",
    "y = np.asarray(y).astype('float32')\n",
    "\n",
    "X_train, X_test, y_train, y_test = train_test_split(pad_rev, y, test_size=0.2, random_state=16)"
   ]
  },
  {
   "cell_type": "code",
   "execution_count": 26,
   "id": "4ad900bf",
   "metadata": {},
   "outputs": [
    {
     "name": "stdout",
     "output_type": "stream",
     "text": [
      "10671\n",
      "Model: \"sequential_1\"\n",
      "_________________________________________________________________\n",
      " Layer (type)                Output Shape              Param #   \n",
      "=================================================================\n",
      " embedding_1 (Embedding)     (None, 80, 128)           1365888   \n",
      "                                                                 \n",
      " dropout_1 (Dropout)         (None, 80, 128)           0         \n",
      "                                                                 \n",
      " lstm_1 (LSTM)               (None, 196)               254800    \n",
      "                                                                 \n",
      " dense_1 (Dense)             (None, 3)                 591       \n",
      "                                                                 \n",
      "=================================================================\n",
      "Total params: 1,621,279\n",
      "Trainable params: 1,621,279\n",
      "Non-trainable params: 0\n",
      "_________________________________________________________________\n",
      "None\n"
     ]
    }
   ],
   "source": [
    "embed_dim = 128\n",
    "lstm_out = 196\n",
    "print(vocab_size)\n",
    "\n",
    "model = Sequential()\n",
    "model.add(Embedding(input_dim=vocab_size, output_dim=embed_dim, input_length = max_review_len))\n",
    "model.add(Dropout(0.4))\n",
    "model.add(LSTM(lstm_out, dropout=0.2, recurrent_dropout=0.2))\n",
    "model.add(Dense(3,activation='softmax'))\n",
    "model.compile(loss = 'sparse_categorical_crossentropy', optimizer='adam',metrics = ['accuracy'])\n",
    "print(model.summary())"
   ]
  },
  {
   "cell_type": "code",
   "execution_count": 27,
   "id": "e32815bf",
   "metadata": {},
   "outputs": [
    {
     "name": "stdout",
     "output_type": "stream",
     "text": [
      "Epoch 1/5\n",
      "191/191 - 43s - loss: 1.0932 - accuracy: 0.3638 - 43s/epoch - 226ms/step\n",
      "Epoch 2/5\n",
      "191/191 - 43s - loss: 1.0930 - accuracy: 0.3629 - 43s/epoch - 225ms/step\n",
      "Epoch 3/5\n",
      "191/191 - 41s - loss: 1.0929 - accuracy: 0.3607 - 41s/epoch - 215ms/step\n",
      "Epoch 4/5\n",
      "191/191 - 42s - loss: 1.0927 - accuracy: 0.3534 - 42s/epoch - 221ms/step\n",
      "Epoch 5/5\n",
      "191/191 - 46s - loss: 1.0929 - accuracy: 0.3564 - 46s/epoch - 242ms/step\n"
     ]
    },
    {
     "data": {
      "text/plain": [
       "<keras.callbacks.History at 0x7fa0e1f7ee30>"
      ]
     },
     "execution_count": 27,
     "metadata": {},
     "output_type": "execute_result"
    }
   ],
   "source": [
    "batch_size = 64\n",
    "model.fit(X_train, y_train, epochs=5, batch_size=batch_size, verbose=2)"
   ]
  },
  {
   "cell_type": "markdown",
   "id": "oriental-fundamental",
   "metadata": {},
   "source": [
    "### Transform test data in the same way as train and make predictions"
   ]
  },
  {
   "cell_type": "code",
   "execution_count": 28,
   "id": "5e3bb4a3",
   "metadata": {},
   "outputs": [
    {
     "name": "stdout",
     "output_type": "stream",
     "text": [
      "48/48 - 2s - loss: 1.0902 - accuracy: 0.3658 - 2s/epoch - 48ms/step\n",
      "score: 1.09\n",
      "acc: 0.37\n"
     ]
    }
   ],
   "source": [
    "score,acc = model.evaluate(X_test, y_test, verbose = 2, batch_size = batch_size)\n",
    "print(\"score: %.2f\" % (score))\n",
    "print(\"acc: %.2f\" % (acc))"
   ]
  },
  {
   "cell_type": "markdown",
   "id": "athletic-finnish",
   "metadata": {},
   "source": [
    "### Compute the score and confusion matrix "
   ]
  },
  {
   "cell_type": "code",
   "execution_count": 29,
   "id": "774e2812",
   "metadata": {},
   "outputs": [
    {
     "name": "stdout",
     "output_type": "stream",
     "text": [
      "96/96 [==============================] - 2s 23ms/step\n",
      "f1 score 0.17853705486044272\n"
     ]
    }
   ],
   "source": [
    "from sklearn.metrics import classification_report\n",
    "y_prediction = model.predict(X_test)\n",
    "y_prediction = np.argmax (y_prediction, axis = 1)\n",
    "\n",
    "print(\"f1 score\", sklearn.metrics.f1_score(y_test, y_prediction, average='macro'))"
   ]
  },
  {
   "cell_type": "code",
   "execution_count": 105,
   "id": "a397e089",
   "metadata": {},
   "outputs": [
    {
     "data": {
      "text/plain": [
       "array([[477, 195, 158],\n",
       "       [167, 727, 219],\n",
       "       [145, 301, 654]])"
      ]
     },
     "metadata": {},
     "output_type": "display_data"
    }
   ],
   "source": [
    "from sklearn.metrics import confusion_matrix\n",
    "from sklearn.metrics import ConfusionMatrixDisplay\n",
    "import matplotlib.pyplot as plt\n",
    "\n",
    "\n",
    "labels = ['happy','angry','sad']\n",
    "confusion_matrix = sklearn.metrics.confusion_matrix(y_test, y_prediction)\n",
    "display(confusion_matrix)\n",
    "labels = [0,1,2]"
   ]
  },
  {
   "cell_type": "code",
   "execution_count": 106,
   "id": "f5985130",
   "metadata": {},
   "outputs": [
    {
     "data": {
      "image/png": "[encoded data removed]",
      "text/plain": [
       "<Figure size 640x480 with 2 Axes>"
      ]
     },
     "metadata": {},
     "output_type": "display_data"
    }
   ],
   "source": [
    "color = 'white'\n",
    "\n",
    "cm_display = ConfusionMatrixDisplay(confusion_matrix = confusion_matrix, display_labels=labels)\n",
    "cm_display.plot(cmap=plt.cm.Blues)\n",
    "cm_display.ax_.set_title('Confusion Matrix', color=color)\n",
    "plt.xlabel('Predicted Label', color=color)\n",
    "plt.ylabel('True Label', color=color)\n",
    "plt.gcf().axes[0].tick_params(colors=color)\n",
    "plt.gcf().axes[1].tick_params(colors=color)\n",
    "plt.show()"
   ]
  },
  {
   "cell_type": "code",
   "execution_count": null,
   "id": "37d1a733",
   "metadata": {},
   "outputs": [],
   "source": []
  }
 ],
 "metadata": {
  "kernelspec": {
   "display_name": "Python 3 (ipykernel)",
   "language": "python",
   "name": "python3"
  },
  "language_info": {
   "codemirror_mode": {
    "name": "ipython",
    "version": 3
   },
   "file_extension": ".py",
   "mimetype": "text/x-python",
   "name": "python",
   "nbconvert_exporter": "python",
   "pygments_lexer": "ipython3",
   "version": "3.8.12"
  }
 },
 "nbformat": 4,
 "nbformat_minor": 5
}
