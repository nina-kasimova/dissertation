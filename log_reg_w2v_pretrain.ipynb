{
 "cells": [
  {
   "cell_type": "code",
   "execution_count": 8,
   "id": "roman-password",
   "metadata": {},
   "outputs": [],
   "source": [
    "import pandas as pd\n",
    "import re\n",
    "import nltk\n",
    "from nltk.tag import pos_tag\n",
    "from typing import List\n",
    "from nltk.tokenize import word_tokenize\n",
    "from nltk.stem.wordnet import WordNetLemmatizer\n",
    "from nltk.tokenize import RegexpTokenizer\n",
    "from nltk.corpus import stopwords\n",
    "import numpy as np"
   ]
  },
  {
   "cell_type": "code",
   "execution_count": 9,
   "id": "pediatric-bailey",
   "metadata": {},
   "outputs": [],
   "source": [
    "from gensim.models.word2vec import Word2Vec\n",
    "import gensim"
   ]
  },
  {
   "cell_type": "code",
   "execution_count": 13,
   "id": "partial-warrior",
   "metadata": {},
   "outputs": [],
   "source": [
    "word2vec_model = gensim.models.KeyedVectors.load_word2vec_format('./GoogleNews-vectors-negative300.bin', binary=True) "
   ]
  },
  {
   "cell_type": "code",
   "execution_count": 49,
   "id": "specific-desert",
   "metadata": {},
   "outputs": [
    {
     "name": "stdout",
     "output_type": "stream",
     "text": [
      "class counts:  others    14948\n",
      "angry      5506\n",
      "sad        5463\n",
      "happy      4243\n",
      "Name: label, dtype: int64\n",
      "Index(['id', 'turn1', 'turn2', 'turn3', 'label', 'combined', 'seq_len'], dtype='object')\n",
      "15212\n"
     ]
    }
   ],
   "source": [
    "dialogues = pd.read_csv('../code/emo_context_train.txt', sep=\"\\t\")\n",
    "class_counts = dialogues[\"label\"].value_counts()\n",
    "\n",
    "# Print the class counts\n",
    "print(\"class counts: \",class_counts)\n",
    "dialogues = dialogues[dialogues[\"label\"]!=\"others\"]\n",
    "labels = dialogues.label\n",
    "cols = [\"turn1\", \"turn2\", \"turn3\"]\n",
    "dialogues[\"combined\"] = dialogues[cols].apply(lambda row: ' '.join(row.values.astype(str)), axis=1)\n",
    "dialogues[\"combined\"] = dialogues[\"combined\"].apply(str.lower).apply(word_tokenize).apply(lambda x: \" \".join(x))\n",
    "dialogues[\"seq_len\"] = dialogues[\"combined\"].apply(len)\n",
    "print(dialogues.columns)\n",
    "\n",
    "max_len = dialogues[\"seq_len\"].max()\n",
    "input_text = dialogues.combined.values\n",
    "tokenized = []\n",
    "for sen in input_text:\n",
    "    tokenized.append(sen.split())\n"
   ]
  },
  {
   "cell_type": "code",
   "execution_count": 15,
   "id": "phantom-power",
   "metadata": {},
   "outputs": [],
   "source": [
    "import sklearn\n",
    "from sklearn.model_selection import train_test_split"
   ]
  },
  {
   "cell_type": "code",
   "execution_count": 16,
   "id": "dietary-carol",
   "metadata": {},
   "outputs": [],
   "source": [
    "X = tokenized\n",
    "y = labels"
   ]
  },
  {
   "cell_type": "code",
   "execution_count": 22,
   "id": "accessory-mechanism",
   "metadata": {},
   "outputs": [],
   "source": [
    "train_data, val_data, train_labels, val_labels = train_test_split(tokenized, labels, test_size=0.2, random_state=42)"
   ]
  },
  {
   "cell_type": "code",
   "execution_count": 65,
   "id": "b44b57f5",
   "metadata": {},
   "outputs": [],
   "source": [
    "X_train, X_test, y_train, y_test = train_test_split(tokenized, y, test_size=0.2, random_state=16)"
   ]
  },
  {
   "cell_type": "code",
   "execution_count": 72,
   "id": "advance-novel",
   "metadata": {},
   "outputs": [
    {
     "name": "stdout",
     "output_type": "stream",
     "text": [
      "3043\n"
     ]
    }
   ],
   "source": [
    "train_vectors = []\n",
    "for sentence in X_train:\n",
    "    sentence_vec = []\n",
    "    for word in sentence:\n",
    "        if word in word2vec_model:\n",
    "            sentence_vec.append(word2vec_model[word])\n",
    "    train_vectors.append(np.mean(sentence_vec, axis=0))\n",
    "    \n",
    "test_vectors = []\n",
    "for sentence in X_test:\n",
    "    sentence_vec = []\n",
    "    for word in sentence:\n",
    "        if word in word2vec_model:\n",
    "            sentence_vec.append(word2vec_model[word])\n",
    "    test_vectors.append(np.mean(sentence_vec, axis=0))\n",
    "    \n",
    "print(len(test_vectors))"
   ]
  },
  {
   "cell_type": "code",
   "execution_count": 1,
   "id": "infrared-tribe",
   "metadata": {},
   "outputs": [],
   "source": [
    "from sklearn.linear_model import LogisticRegression\n",
    "from sklearn.metrics import accuracy_score, f1_score"
   ]
  },
  {
   "cell_type": "code",
   "execution_count": 71,
   "id": "raised-double",
   "metadata": {},
   "outputs": [
    {
     "name": "stderr",
     "output_type": "stream",
     "text": [
      "/Users/nina/miniconda3/envs/ml/lib/python3.10/site-packages/sklearn/linear_model/_logistic.py:814: ConvergenceWarning: lbfgs failed to converge (status=1):\n",
      "STOP: TOTAL NO. of ITERATIONS REACHED LIMIT.\n",
      "\n",
      "Increase the number of iterations (max_iter) or scale the data as shown in:\n",
      "    https://scikit-learn.org/stable/modules/preprocessing.html\n",
      "Please also refer to the documentation for alternative solver options:\n",
      "    https://scikit-learn.org/stable/modules/linear_model.html#logistic-regression\n",
      "  n_iter_i = _check_optimize_result(\n"
     ]
    },
    {
     "data": {
      "text/plain": [
       "LogisticRegression()"
      ]
     },
     "execution_count": 71,
     "metadata": {},
     "output_type": "execute_result"
    }
   ],
   "source": [
    "logisticRegr = LogisticRegression(max_iter=10000)\n",
    "\n",
    "logR = LogisticRegression()\n",
    "logR.fit(train_vectors, y_train)"
   ]
  },
  {
   "cell_type": "code",
   "execution_count": 73,
   "id": "greenhouse-copying",
   "metadata": {},
   "outputs": [],
   "source": [
    "predictionsLog = logR.predict(test_vectors)"
   ]
  },
  {
   "cell_type": "code",
   "execution_count": 74,
   "id": "fabulous-gentleman",
   "metadata": {},
   "outputs": [
    {
     "name": "stdout",
     "output_type": "stream",
     "text": [
      "accuracy:  0.8008544199802826\n",
      "F1 score:  0.8005721462946648\n"
     ]
    }
   ],
   "source": [
    "print(\"accuracy: \",accuracy_score(y_test, predictionsLog))\n",
    "print(\"F1 score: \",f1_score(y_test, predictionsLog, average=\"macro\"))"
   ]
  },
  {
   "cell_type": "code",
   "execution_count": 76,
   "id": "2bda44d4",
   "metadata": {},
   "outputs": [
    {
     "name": "stdout",
     "output_type": "stream",
     "text": [
      "              precision    recall  f1-score   support\n",
      "\n",
      "       angry       0.79      0.82      0.81      1100\n",
      "       happy       0.82      0.78      0.80       830\n",
      "         sad       0.80      0.79      0.80      1113\n",
      "\n",
      "    accuracy                           0.80      3043\n",
      "   macro avg       0.80      0.80      0.80      3043\n",
      "weighted avg       0.80      0.80      0.80      3043\n",
      "\n"
     ]
    }
   ],
   "source": [
    "from sklearn.metrics import classification_report\n",
    " \n",
    "print(classification_report(y_test, predictionsLog))"
   ]
  },
  {
   "cell_type": "code",
   "execution_count": null,
   "id": "a6599b37",
   "metadata": {},
   "outputs": [],
   "source": []
  }
 ],
 "metadata": {
  "kernelspec": {
   "display_name": "Python 3 (ipykernel)",
   "language": "python",
   "name": "python3"
  },
  "language_info": {
   "codemirror_mode": {
    "name": "ipython",
    "version": 3
   },
   "file_extension": ".py",
   "mimetype": "text/x-python",
   "name": "python",
   "nbconvert_exporter": "python",
   "pygments_lexer": "ipython3",
   "version": "3.8.12"
  }
 },
 "nbformat": 4,
 "nbformat_minor": 5
}
